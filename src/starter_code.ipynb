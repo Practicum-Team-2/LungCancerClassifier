{
 "cells": [
  {
   "cell_type": "code",
   "execution_count": 2,
   "id": "467a201f",
   "metadata": {},
   "outputs": [],
   "source": [
    "import pandas as pd\n",
    "import numpy as np\n",
    "from imblearn.over_sampling import SMOTE, SMOTENC\n",
    "from imblearn.pipeline import Pipeline as imbpipeline\n",
    "from sklearn.model_selection import train_test_split, cross_val_score\n",
    "from sklearn.compose import ColumnTransformer\n",
    "from sklearn.pipeline import Pipeline\n",
    "from sklearn.impute import SimpleImputer\n",
    "from sklearn.preprocessing import StandardScaler, OneHotEncoder, LabelEncoder\n",
    "from sklearn.neighbors import KNeighborsRegressor\n",
    "from sklearn.linear_model import LinearRegression, Lasso, Ridge, LogisticRegression\n",
    "from statistics import mean\n",
    "from sklearn.metrics import f1_score,roc_auc_score,confusion_matrix\n",
    "import seaborn as sns\n",
    "\n",
    "pd.options.display.max_seq_items = None"
   ]
  },
  {
   "cell_type": "code",
   "execution_count": 4,
   "id": "fe0d00b6",
   "metadata": {},
   "outputs": [
    {
     "data": {
      "text/html": [
       "<div>\n",
       "<style scoped>\n",
       "    .dataframe tbody tr th:only-of-type {\n",
       "        vertical-align: middle;\n",
       "    }\n",
       "\n",
       "    .dataframe tbody tr th {\n",
       "        vertical-align: top;\n",
       "    }\n",
       "\n",
       "    .dataframe thead th {\n",
       "        text-align: right;\n",
       "    }\n",
       "</style>\n",
       "<table border=\"1\" class=\"dataframe\">\n",
       "  <thead>\n",
       "    <tr style=\"text-align: right;\">\n",
       "      <th></th>\n",
       "      <th>Cancer Type Detailed</th>\n",
       "      <th>Mutation Count</th>\n",
       "      <th>Fraction Genome Altered</th>\n",
       "      <th>Diagnosis Age</th>\n",
       "      <th>Sex</th>\n",
       "      <th>Somatic Status</th>\n",
       "      <th>Smoking History</th>\n",
       "      <th>Person Cigarette Smoking History Pack Year Value</th>\n",
       "      <th>TMB Nonsynonymous</th>\n",
       "    </tr>\n",
       "  </thead>\n",
       "  <tbody>\n",
       "    <tr>\n",
       "      <th>0</th>\n",
       "      <td>Lung Adenocarcinoma</td>\n",
       "      <td>3.0</td>\n",
       "      <td>0.1539</td>\n",
       "      <td>56.0</td>\n",
       "      <td>Female</td>\n",
       "      <td>Matched</td>\n",
       "      <td>Former Smoker</td>\n",
       "      <td>36.427867</td>\n",
       "      <td>0.066667</td>\n",
       "    </tr>\n",
       "    <tr>\n",
       "      <th>1</th>\n",
       "      <td>Lung Adenocarcinoma</td>\n",
       "      <td>32.0</td>\n",
       "      <td>0.1318</td>\n",
       "      <td>56.0</td>\n",
       "      <td>Female</td>\n",
       "      <td>Matched</td>\n",
       "      <td>Former Smoker</td>\n",
       "      <td>36.427867</td>\n",
       "      <td>1.066667</td>\n",
       "    </tr>\n",
       "    <tr>\n",
       "      <th>2</th>\n",
       "      <td>Lung Adenocarcinoma</td>\n",
       "      <td>370.0</td>\n",
       "      <td>0.3385</td>\n",
       "      <td>69.0</td>\n",
       "      <td>Male</td>\n",
       "      <td>Matched</td>\n",
       "      <td>Former Smoker</td>\n",
       "      <td>36.427867</td>\n",
       "      <td>12.466667</td>\n",
       "    </tr>\n",
       "    <tr>\n",
       "      <th>3</th>\n",
       "      <td>Lung Adenocarcinoma</td>\n",
       "      <td>72.0</td>\n",
       "      <td>0.0758</td>\n",
       "      <td>69.0</td>\n",
       "      <td>Female</td>\n",
       "      <td>Matched</td>\n",
       "      <td>Former Smoker</td>\n",
       "      <td>36.427867</td>\n",
       "      <td>2.400000</td>\n",
       "    </tr>\n",
       "    <tr>\n",
       "      <th>4</th>\n",
       "      <td>Lung Adenocarcinoma</td>\n",
       "      <td>652.0</td>\n",
       "      <td>0.3153</td>\n",
       "      <td>78.0</td>\n",
       "      <td>Male</td>\n",
       "      <td>Matched</td>\n",
       "      <td>Former Smoker</td>\n",
       "      <td>36.427867</td>\n",
       "      <td>21.800000</td>\n",
       "    </tr>\n",
       "    <tr>\n",
       "      <th>5</th>\n",
       "      <td>Lung Adenocarcinoma</td>\n",
       "      <td>74.0</td>\n",
       "      <td>0.8972</td>\n",
       "      <td>52.0</td>\n",
       "      <td>Female</td>\n",
       "      <td>Matched</td>\n",
       "      <td>Former Smoker</td>\n",
       "      <td>36.427867</td>\n",
       "      <td>2.466667</td>\n",
       "    </tr>\n",
       "    <tr>\n",
       "      <th>6</th>\n",
       "      <td>Lung Adenocarcinoma</td>\n",
       "      <td>64.0</td>\n",
       "      <td>0.4120</td>\n",
       "      <td>57.0</td>\n",
       "      <td>Female</td>\n",
       "      <td>Matched</td>\n",
       "      <td>Former Smoker</td>\n",
       "      <td>36.427867</td>\n",
       "      <td>2.133333</td>\n",
       "    </tr>\n",
       "    <tr>\n",
       "      <th>7</th>\n",
       "      <td>Lung Adenocarcinoma</td>\n",
       "      <td>39.0</td>\n",
       "      <td>0.0550</td>\n",
       "      <td>76.0</td>\n",
       "      <td>Male</td>\n",
       "      <td>Matched</td>\n",
       "      <td>Former Smoker</td>\n",
       "      <td>36.427867</td>\n",
       "      <td>1.300000</td>\n",
       "    </tr>\n",
       "    <tr>\n",
       "      <th>8</th>\n",
       "      <td>Lung Adenocarcinoma</td>\n",
       "      <td>20.0</td>\n",
       "      <td>0.1158</td>\n",
       "      <td>58.0</td>\n",
       "      <td>Female</td>\n",
       "      <td>Matched</td>\n",
       "      <td>Former Smoker</td>\n",
       "      <td>36.427867</td>\n",
       "      <td>0.666667</td>\n",
       "    </tr>\n",
       "    <tr>\n",
       "      <th>9</th>\n",
       "      <td>Lung Adenocarcinoma</td>\n",
       "      <td>80.0</td>\n",
       "      <td>0.4545</td>\n",
       "      <td>75.0</td>\n",
       "      <td>Male</td>\n",
       "      <td>Matched</td>\n",
       "      <td>Former Smoker</td>\n",
       "      <td>36.427867</td>\n",
       "      <td>2.666667</td>\n",
       "    </tr>\n",
       "  </tbody>\n",
       "</table>\n",
       "</div>"
      ],
      "text/plain": [
       "  Cancer Type Detailed  Mutation Count  Fraction Genome Altered  \\\n",
       "0  Lung Adenocarcinoma             3.0                   0.1539   \n",
       "1  Lung Adenocarcinoma            32.0                   0.1318   \n",
       "2  Lung Adenocarcinoma           370.0                   0.3385   \n",
       "3  Lung Adenocarcinoma            72.0                   0.0758   \n",
       "4  Lung Adenocarcinoma           652.0                   0.3153   \n",
       "5  Lung Adenocarcinoma            74.0                   0.8972   \n",
       "6  Lung Adenocarcinoma            64.0                   0.4120   \n",
       "7  Lung Adenocarcinoma            39.0                   0.0550   \n",
       "8  Lung Adenocarcinoma            20.0                   0.1158   \n",
       "9  Lung Adenocarcinoma            80.0                   0.4545   \n",
       "\n",
       "   Diagnosis Age     Sex Somatic Status Smoking History  \\\n",
       "0           56.0  Female        Matched   Former Smoker   \n",
       "1           56.0  Female        Matched   Former Smoker   \n",
       "2           69.0    Male        Matched   Former Smoker   \n",
       "3           69.0  Female        Matched   Former Smoker   \n",
       "4           78.0    Male        Matched   Former Smoker   \n",
       "5           52.0  Female        Matched   Former Smoker   \n",
       "6           57.0  Female        Matched   Former Smoker   \n",
       "7           76.0    Male        Matched   Former Smoker   \n",
       "8           58.0  Female        Matched   Former Smoker   \n",
       "9           75.0    Male        Matched   Former Smoker   \n",
       "\n",
       "   Person Cigarette Smoking History Pack Year Value  TMB Nonsynonymous  \n",
       "0                                         36.427867           0.066667  \n",
       "1                                         36.427867           1.066667  \n",
       "2                                         36.427867          12.466667  \n",
       "3                                         36.427867           2.400000  \n",
       "4                                         36.427867          21.800000  \n",
       "5                                         36.427867           2.466667  \n",
       "6                                         36.427867           2.133333  \n",
       "7                                         36.427867           1.300000  \n",
       "8                                         36.427867           0.666667  \n",
       "9                                         36.427867           2.666667  "
      ]
     },
     "execution_count": 4,
     "metadata": {},
     "output_type": "execute_result"
    }
   ],
   "source": [
    "df = pd.read_csv(\"data/full_data.csv\",index_col=0)  \n",
    "df.head(10)"
   ]
  },
  {
   "cell_type": "code",
   "execution_count": 5,
   "id": "3d9a2b21",
   "metadata": {},
   "outputs": [],
   "source": [
    "# Split the dataset into train and test sets\n",
    "X = df.loc[:, df.columns != 'Cancer Type Detailed']\n",
    "y = df['Cancer Type Detailed']\n",
    "X_train, X_test, y_train, y_test= train_test_split(X, y, test_size = 0.2, random_state = 11)"
   ]
  },
  {
   "cell_type": "code",
   "execution_count": 6,
   "id": "ab258453",
   "metadata": {},
   "outputs": [],
   "source": [
    "# Define the data preparation for the columns\n",
    "numerical_ix = X_train.select_dtypes(include=['int64', 'float64']).columns\n",
    "categorical_ix = X_train.select_dtypes(include=['object']).columns\n",
    "# Define categorical pipeline\n",
    "categorical_transformer = Pipeline([\n",
    "    ('imputer', SimpleImputer(strategy='most_frequent', fill_value='missing')),\n",
    "    ('encoder', OneHotEncoder(handle_unknown='ignore', sparse=False))\n",
    "])\n",
    "\n",
    "# Define numerical pipeline\n",
    "numerical_transformer = Pipeline(steps=[\n",
    "    ('imputer', SimpleImputer(strategy='median')),\n",
    "    ('scaler', StandardScaler())\n",
    "])\n",
    "\n",
    "# Define columntransformer \n",
    "\n",
    "transformer = ColumnTransformer(\n",
    "    transformers=[\n",
    "        ('num', numerical_transformer, numerical_ix),\n",
    "        ('cat', categorical_transformer, categorical_ix)\n",
    "])"
   ]
  },
  {
   "cell_type": "code",
   "execution_count": 8,
   "id": "c9d4ada6",
   "metadata": {},
   "outputs": [],
   "source": [
    "# Change your model here\n",
    "logistic_pipline= imbpipeline([\n",
    "    ('smote',SMOTENC(categorical_features = [3,4,5],random_state = 11)),\n",
    "    ('transformer', transformer),\n",
    "    ('model', LogisticRegression(penalty ='none', solver='saga'))\n",
    "])"
   ]
  },
  {
   "cell_type": "code",
   "execution_count": 9,
   "id": "cdc0c578",
   "metadata": {},
   "outputs": [
    {
     "name": "stderr",
     "output_type": "stream",
     "text": [
      "/Applications/anaconda3/lib/python3.8/site-packages/sklearn/linear_model/_sag.py:352: ConvergenceWarning: The max_iter was reached which means the coef_ did not converge\n",
      "  warnings.warn(\n"
     ]
    },
    {
     "data": {
      "text/plain": [
       "Pipeline(steps=[('smote',\n",
       "                 SMOTENC(categorical_features=[3, 4, 5], random_state=11)),\n",
       "                ('transformer',\n",
       "                 ColumnTransformer(transformers=[('num',\n",
       "                                                  Pipeline(steps=[('imputer',\n",
       "                                                                   SimpleImputer(strategy='median')),\n",
       "                                                                  ('scaler',\n",
       "                                                                   StandardScaler())]),\n",
       "                                                  Index(['Mutation Count', 'Fraction Genome Altered', 'Diagnosis Age',\n",
       "       'Person Cigarette Smoking History Pack Year Value',\n",
       "       'TMB Nonsynonymous'],\n",
       "      dtype='object')),\n",
       "                                                 ('cat',\n",
       "                                                  Pipeline(steps=[('imputer',\n",
       "                                                                   SimpleImputer(fill_value='missing',\n",
       "                                                                                 strategy='most_frequent')),\n",
       "                                                                  ('encoder',\n",
       "                                                                   OneHotEncoder(handle_unknown='ignore',\n",
       "                                                                                 sparse=False))]),\n",
       "                                                  Index(['Sex', 'Somatic Status', 'Smoking History'], dtype='object'))])),\n",
       "                ('model', LogisticRegression(penalty='none', solver='saga'))])"
      ]
     },
     "execution_count": 9,
     "metadata": {},
     "output_type": "execute_result"
    }
   ],
   "source": [
    "logistic_pipline.fit(X_train, y_train)"
   ]
  },
  {
   "cell_type": "code",
   "execution_count": 10,
   "id": "3ace025b",
   "metadata": {},
   "outputs": [
    {
     "data": {
      "text/plain": [
       "0.7694581280788177"
      ]
     },
     "execution_count": 10,
     "metadata": {},
     "output_type": "execute_result"
    }
   ],
   "source": [
    "# Accuracy\n",
    "logistic_pipline.score(X_test, y_test)"
   ]
  },
  {
   "cell_type": "code",
   "execution_count": 18,
   "id": "5e8433aa",
   "metadata": {},
   "outputs": [
    {
     "data": {
      "text/plain": [
       "0.802816471281084"
      ]
     },
     "execution_count": 18,
     "metadata": {},
     "output_type": "execute_result"
    }
   ],
   "source": [
    "# f1 score\n",
    "preds = logistic_pipline.predict(X_test)\n",
    "f1_score(y_test, preds, average = \"weighted\")"
   ]
  },
  {
   "cell_type": "code",
   "execution_count": 19,
   "id": "1db0fc59",
   "metadata": {},
   "outputs": [
    {
     "data": {
      "text/plain": [
       "<AxesSubplot:>"
      ]
     },
     "execution_count": 19,
     "metadata": {},
     "output_type": "execute_result"
    },
    {
     "data": {
      "image/png": "[encoded data removed]",
      "text/plain": [
       "<Figure size 432x288 with 2 Axes>"
      ]
     },
     "metadata": {
      "needs_background": "light"
     },
     "output_type": "display_data"
    }
   ],
   "source": [
    "# confusion matrix\n",
    "cf_matrix = confusion_matrix(y_test,preds)\n",
    "sns.heatmap(cf_matrix, annot = True, cmap = \"Blues\")"
   ]
  },
  {
   "cell_type": "code",
   "execution_count": null,
   "id": "b4e8cf34",
   "metadata": {},
   "outputs": [],
   "source": []
  }
 ],
 "metadata": {
  "kernelspec": {
   "display_name": "Python 3",
   "language": "python",
   "name": "python3"
  },
  "language_info": {
   "codemirror_mode": {
    "name": "ipython",
    "version": 3
   },
   "file_extension": ".py",
   "mimetype": "text/x-python",
   "name": "python",
   "nbconvert_exporter": "python",
   "pygments_lexer": "ipython3",
   "version": "3.8.8"
  }
 },
 "nbformat": 4,
 "nbformat_minor": 5
}
