{
  "cells": [
    {
      "cell_type": "code",
      "execution_count": 1,
      "id": "467a201f",
      "metadata": {
        "id": "467a201f"
      },
      "outputs": [],
      "source": [
        "import pandas as pd\n",
        "import numpy as np\n",
        "from imblearn.over_sampling import SMOTE, SMOTENC\n",
        "from imblearn.pipeline import Pipeline as imbpipeline\n",
        "from sklearn.model_selection import train_test_split, cross_val_score\n",
        "from sklearn.compose import ColumnTransformer\n",
        "from sklearn.pipeline import Pipeline\n",
        "from sklearn.impute import SimpleImputer\n",
        "from sklearn.preprocessing import StandardScaler, OneHotEncoder, LabelEncoder\n",
        "from sklearn.neighbors import KNeighborsRegressor\n",
        "from sklearn.linear_model import LinearRegression, Lasso, Ridge, LogisticRegression\n",
        "from statistics import mean\n",
        "from sklearn.metrics import f1_score,roc_auc_score,confusion_matrix\n",
        "import seaborn as sns\n",
        "\n",
        "pd.options.display.max_seq_items = None"
      ]
    },
    {
      "cell_type": "code",
      "source": [
        "from google.colab import files\n",
        "uploaded = files.upload()"
      ],
      "metadata": {
        "colab": {
          "resources": {
            "http://localhost:8080/nbextensions/google.colab/files.js": {
              "data": "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",
              "ok": true,
              "headers": [
                [
                  "content-type",
                  "application/javascript"
                ]
              ],
              "status": 200,
              "status_text": ""
            }
          },
          "base_uri": "https://localhost:8080/",
          "height": 73
        },
        "id": "oA6m_NH1p7NV",
        "outputId": "004b75c4-f115-4adf-fa97-05ef597058bc"
      },
      "id": "oA6m_NH1p7NV",
      "execution_count": 3,
      "outputs": [
        {
          "output_type": "display_data",
          "data": {
            "text/plain": [
              "<IPython.core.display.HTML object>"
            ],
            "text/html": [
              "\n",
              "     <input type=\"file\" id=\"files-1ccd8915-6d27-4d0e-bf9e-28485426787d\" name=\"files[]\" multiple disabled\n",
              "        style=\"border:none\" />\n",
              "     <output id=\"result-1ccd8915-6d27-4d0e-bf9e-28485426787d\">\n",
              "      Upload widget is only available when the cell has been executed in the\n",
              "      current browser session. Please rerun this cell to enable.\n",
              "      </output>\n",
              "      <script src=\"/nbextensions/google.colab/files.js\"></script> "
            ]
          },
          "metadata": {}
        },
        {
          "output_type": "stream",
          "name": "stdout",
          "text": [
            "Saving full_data.csv to full_data.csv\n"
          ]
        }
      ]
    },
    {
      "cell_type": "code",
      "execution_count": 14,
      "id": "fe0d00b6",
      "metadata": {
        "colab": {
          "base_uri": "https://localhost:8080/",
          "height": 354
        },
        "id": "fe0d00b6",
        "outputId": "a153083e-a13c-47d0-96de-0103b3e1e00c"
      },
      "outputs": [
        {
          "output_type": "execute_result",
          "data": {
            "text/plain": [
              "  Cancer Type Detailed  Mutation Count  Fraction Genome Altered  \\\n",
              "0  Lung Adenocarcinoma             3.0                   0.1539   \n",
              "1  Lung Adenocarcinoma            32.0                   0.1318   \n",
              "2  Lung Adenocarcinoma           370.0                   0.3385   \n",
              "3  Lung Adenocarcinoma            72.0                   0.0758   \n",
              "4  Lung Adenocarcinoma           652.0                   0.3153   \n",
              "\n",
              "   Diagnosis Age     Sex Somatic Status Smoking History  \\\n",
              "0           56.0  Female        Matched   Former Smoker   \n",
              "1           56.0  Female        Matched   Former Smoker   \n",
              "2           69.0    Male        Matched   Former Smoker   \n",
              "3           69.0  Female        Matched   Former Smoker   \n",
              "4           78.0    Male        Matched   Former Smoker   \n",
              "\n",
              "   Person Cigarette Smoking History Pack Year Value  TMB Nonsynonymous  \n",
              "0                                         36.427867           0.066667  \n",
              "1                                         36.427867           1.066667  \n",
              "2                                         36.427867          12.466667  \n",
              "3                                         36.427867           2.400000  \n",
              "4                                         36.427867          21.800000  "
            ],
            "text/html": [
              "\n",
              "  <div id=\"df-85fe9cca-9988-494e-9fff-f07832bb4879\">\n",
              "    <div class=\"colab-df-container\">\n",
              "      <div>\n",
              "<style scoped>\n",
              "    .dataframe tbody tr th:only-of-type {\n",
              "        vertical-align: middle;\n",
              "    }\n",
              "\n",
              "    .dataframe tbody tr th {\n",
              "        vertical-align: top;\n",
              "    }\n",
              "\n",
              "    .dataframe thead th {\n",
              "        text-align: right;\n",
              "    }\n",
              "</style>\n",
              "<table border=\"1\" class=\"dataframe\">\n",
              "  <thead>\n",
              "    <tr style=\"text-align: right;\">\n",
              "      <th></th>\n",
              "      <th>Cancer Type Detailed</th>\n",
              "      <th>Mutation Count</th>\n",
              "      <th>Fraction Genome Altered</th>\n",
              "      <th>Diagnosis Age</th>\n",
              "      <th>Sex</th>\n",
              "      <th>Somatic Status</th>\n",
              "      <th>Smoking History</th>\n",
              "      <th>Person Cigarette Smoking History Pack Year Value</th>\n",
              "      <th>TMB Nonsynonymous</th>\n",
              "    </tr>\n",
              "  </thead>\n",
              "  <tbody>\n",
              "    <tr>\n",
              "      <th>0</th>\n",
              "      <td>Lung Adenocarcinoma</td>\n",
              "      <td>3.0</td>\n",
              "      <td>0.1539</td>\n",
              "      <td>56.0</td>\n",
              "      <td>Female</td>\n",
              "      <td>Matched</td>\n",
              "      <td>Former Smoker</td>\n",
              "      <td>36.427867</td>\n",
              "      <td>0.066667</td>\n",
              "    </tr>\n",
              "    <tr>\n",
              "      <th>1</th>\n",
              "      <td>Lung Adenocarcinoma</td>\n",
              "      <td>32.0</td>\n",
              "      <td>0.1318</td>\n",
              "      <td>56.0</td>\n",
              "      <td>Female</td>\n",
              "      <td>Matched</td>\n",
              "      <td>Former Smoker</td>\n",
              "      <td>36.427867</td>\n",
              "      <td>1.066667</td>\n",
              "    </tr>\n",
              "    <tr>\n",
              "      <th>2</th>\n",
              "      <td>Lung Adenocarcinoma</td>\n",
              "      <td>370.0</td>\n",
              "      <td>0.3385</td>\n",
              "      <td>69.0</td>\n",
              "      <td>Male</td>\n",
              "      <td>Matched</td>\n",
              "      <td>Former Smoker</td>\n",
              "      <td>36.427867</td>\n",
              "      <td>12.466667</td>\n",
              "    </tr>\n",
              "    <tr>\n",
              "      <th>3</th>\n",
              "      <td>Lung Adenocarcinoma</td>\n",
              "      <td>72.0</td>\n",
              "      <td>0.0758</td>\n",
              "      <td>69.0</td>\n",
              "      <td>Female</td>\n",
              "      <td>Matched</td>\n",
              "      <td>Former Smoker</td>\n",
              "      <td>36.427867</td>\n",
              "      <td>2.400000</td>\n",
              "    </tr>\n",
              "    <tr>\n",
              "      <th>4</th>\n",
              "      <td>Lung Adenocarcinoma</td>\n",
              "      <td>652.0</td>\n",
              "      <td>0.3153</td>\n",
              "      <td>78.0</td>\n",
              "      <td>Male</td>\n",
              "      <td>Matched</td>\n",
              "      <td>Former Smoker</td>\n",
              "      <td>36.427867</td>\n",
              "      <td>21.800000</td>\n",
              "    </tr>\n",
              "  </tbody>\n",
              "</table>\n",
              "</div>\n",
              "      <button class=\"colab-df-convert\" onclick=\"convertToInteractive('df-85fe9cca-9988-494e-9fff-f07832bb4879')\"\n",
              "              title=\"Convert this dataframe to an interactive table.\"\n",
              "              style=\"display:none;\">\n",
              "        \n",
              "  <svg xmlns=\"http://www.w3.org/2000/svg\" height=\"24px\"viewBox=\"0 0 24 24\"\n",
              "       width=\"24px\">\n",
              "    <path d=\"M0 0h24v24H0V0z\" fill=\"none\"/>\n",
              "    <path d=\"M18.56 5.44l.94 2.06.94-2.06 2.06-.94-2.06-.94-.94-2.06-.94 2.06-2.06.94zm-11 1L8.5 8.5l.94-2.06 2.06-.94-2.06-.94L8.5 2.5l-.94 2.06-2.06.94zm10 10l.94 2.06.94-2.06 2.06-.94-2.06-.94-.94-2.06-.94 2.06-2.06.94z\"/><path d=\"M17.41 7.96l-1.37-1.37c-.4-.4-.92-.59-1.43-.59-.52 0-1.04.2-1.43.59L10.3 9.45l-7.72 7.72c-.78.78-.78 2.05 0 2.83L4 21.41c.39.39.9.59 1.41.59.51 0 1.02-.2 1.41-.59l7.78-7.78 2.81-2.81c.8-.78.8-2.07 0-2.86zM5.41 20L4 18.59l7.72-7.72 1.47 1.35L5.41 20z\"/>\n",
              "  </svg>\n",
              "      </button>\n",
              "      \n",
              "  <style>\n",
              "    .colab-df-container {\n",
              "      display:flex;\n",
              "      flex-wrap:wrap;\n",
              "      gap: 12px;\n",
              "    }\n",
              "\n",
              "    .colab-df-convert {\n",
              "      background-color: #E8F0FE;\n",
              "      border: none;\n",
              "      border-radius: 50%;\n",
              "      cursor: pointer;\n",
              "      display: none;\n",
              "      fill: #1967D2;\n",
              "      height: 32px;\n",
              "      padding: 0 0 0 0;\n",
              "      width: 32px;\n",
              "    }\n",
              "\n",
              "    .colab-df-convert:hover {\n",
              "      background-color: #E2EBFA;\n",
              "      box-shadow: 0px 1px 2px rgba(60, 64, 67, 0.3), 0px 1px 3px 1px rgba(60, 64, 67, 0.15);\n",
              "      fill: #174EA6;\n",
              "    }\n",
              "\n",
              "    [theme=dark] .colab-df-convert {\n",
              "      background-color: #3B4455;\n",
              "      fill: #D2E3FC;\n",
              "    }\n",
              "\n",
              "    [theme=dark] .colab-df-convert:hover {\n",
              "      background-color: #434B5C;\n",
              "      box-shadow: 0px 1px 3px 1px rgba(0, 0, 0, 0.15);\n",
              "      filter: drop-shadow(0px 1px 2px rgba(0, 0, 0, 0.3));\n",
              "      fill: #FFFFFF;\n",
              "    }\n",
              "  </style>\n",
              "\n",
              "      <script>\n",
              "        const buttonEl =\n",
              "          document.querySelector('#df-85fe9cca-9988-494e-9fff-f07832bb4879 button.colab-df-convert');\n",
              "        buttonEl.style.display =\n",
              "          google.colab.kernel.accessAllowed ? 'block' : 'none';\n",
              "\n",
              "        async function convertToInteractive(key) {\n",
              "          const element = document.querySelector('#df-85fe9cca-9988-494e-9fff-f07832bb4879');\n",
              "          const dataTable =\n",
              "            await google.colab.kernel.invokeFunction('convertToInteractive',\n",
              "                                                     [key], {});\n",
              "          if (!dataTable) return;\n",
              "\n",
              "          const docLinkHtml = 'Like what you see? Visit the ' +\n",
              "            '<a target=\"_blank\" href=https://colab.research.google.com/notebooks/data_table.ipynb>data table notebook</a>'\n",
              "            + ' to learn more about interactive tables.';\n",
              "          element.innerHTML = '';\n",
              "          dataTable['output_type'] = 'display_data';\n",
              "          await google.colab.output.renderOutput(dataTable, element);\n",
              "          const docLink = document.createElement('div');\n",
              "          docLink.innerHTML = docLinkHtml;\n",
              "          element.appendChild(docLink);\n",
              "        }\n",
              "      </script>\n",
              "    </div>\n",
              "  </div>\n",
              "  "
            ]
          },
          "metadata": {},
          "execution_count": 14
        }
      ],
      "source": [
        "import io\n",
        "df = pd.read_csv(io.BytesIO(uploaded['full_data.csv']))\n",
        "df.drop(df.columns[0], axis=1, inplace=True)\n",
        "df.head()"
      ]
    },
    {
      "cell_type": "code",
      "execution_count": 18,
      "id": "3d9a2b21",
      "metadata": {
        "colab": {
          "base_uri": "https://localhost:8080/"
        },
        "id": "3d9a2b21",
        "outputId": "b01b141d-d1ca-42c7-b535-dc932b10b2a7"
      },
      "outputs": [
        {
          "output_type": "execute_result",
          "data": {
            "text/plain": [
              "(4056, 8)"
            ]
          },
          "metadata": {},
          "execution_count": 18
        }
      ],
      "source": [
        "# Split the dataset into train and test sets\n",
        "X = df.loc[:, df.columns != 'Cancer Type Detailed']\n",
        "y = df['Cancer Type Detailed']\n",
        "X_train, X_test, y_train, y_test= train_test_split(X, y, test_size = 0.2, random_state = 11)\n",
        "X_train.shape"
      ]
    },
    {
      "cell_type": "code",
      "execution_count": 19,
      "id": "ab258453",
      "metadata": {
        "id": "ab258453"
      },
      "outputs": [],
      "source": [
        "# Define the data preparation for the columns\n",
        "numerical_ix = X_train.select_dtypes(include=['int64', 'float64']).columns\n",
        "categorical_ix = X_train.select_dtypes(include=['object']).columns\n",
        "# Define categorical pipeline\n",
        "categorical_transformer = Pipeline([\n",
        "    ('imputer', SimpleImputer(strategy='most_frequent', fill_value='missing')),\n",
        "    ('encoder', OneHotEncoder(handle_unknown='ignore', sparse=False))\n",
        "])\n",
        "\n",
        "# Define numerical pipeline\n",
        "numerical_transformer = Pipeline(steps=[\n",
        "    ('imputer', SimpleImputer(strategy='median')),\n",
        "    ('scaler', StandardScaler())\n",
        "])\n",
        "\n",
        "# Define columntransformer \n",
        "\n",
        "transformer = ColumnTransformer(\n",
        "    transformers=[\n",
        "        ('num', numerical_transformer, numerical_ix),\n",
        "        ('cat', categorical_transformer, categorical_ix)\n",
        "])"
      ]
    },
    {
      "cell_type": "code",
      "execution_count": 20,
      "id": "c9d4ada6",
      "metadata": {
        "id": "c9d4ada6"
      },
      "outputs": [],
      "source": [
        "# Change your model here\n",
        "logistic_pipline= imbpipeline([\n",
        "    ('smote',SMOTENC(categorical_features = [3,4,5],random_state = 11)),\n",
        "    ('transformer', transformer),\n",
        "    ('model', LogisticRegression(penalty ='none', solver='saga'))\n",
        "])"
      ]
    },
    {
      "cell_type": "code",
      "execution_count": 21,
      "id": "cdc0c578",
      "metadata": {
        "colab": {
          "base_uri": "https://localhost:8080/"
        },
        "id": "cdc0c578",
        "outputId": "fd08f1b1-043c-489b-cad0-7c4582ece59a"
      },
      "outputs": [
        {
          "output_type": "stream",
          "name": "stderr",
          "text": [
            "/usr/local/lib/python3.7/dist-packages/sklearn/linear_model/_sag.py:354: ConvergenceWarning: The max_iter was reached which means the coef_ did not converge\n",
            "  ConvergenceWarning,\n"
          ]
        },
        {
          "output_type": "execute_result",
          "data": {
            "text/plain": [
              "Pipeline(steps=[('smote',\n",
              "                 SMOTENC(categorical_features=[3, 4, 5], random_state=11)),\n",
              "                ('transformer',\n",
              "                 ColumnTransformer(transformers=[('num',\n",
              "                                                  Pipeline(steps=[('imputer',\n",
              "                                                                   SimpleImputer(strategy='median')),\n",
              "                                                                  ('scaler',\n",
              "                                                                   StandardScaler())]),\n",
              "                                                  Index(['Mutation Count', 'Fraction Genome Altered', 'Diagnosis Age',\n",
              "       'Person Cigarette Smoking History Pack Year Value',\n",
              "       'TMB Nonsynonymous'],\n",
              "      dtype='object')),\n",
              "                                                 ('cat',\n",
              "                                                  Pipeline(steps=[('imputer',\n",
              "                                                                   SimpleImputer(fill_value='missing',\n",
              "                                                                                 strategy='most_frequent')),\n",
              "                                                                  ('encoder',\n",
              "                                                                   OneHotEncoder(handle_unknown='ignore',\n",
              "                                                                                 sparse=False))]),\n",
              "                                                  Index(['Sex', 'Somatic Status', 'Smoking History'], dtype='object'))])),\n",
              "                ('model', LogisticRegression(penalty='none', solver='saga'))])"
            ]
          },
          "metadata": {},
          "execution_count": 21
        }
      ],
      "source": [
        "logistic_pipline.fit(X_train, y_train)"
      ]
    },
    {
      "cell_type": "code",
      "execution_count": 22,
      "id": "3ace025b",
      "metadata": {
        "colab": {
          "base_uri": "https://localhost:8080/"
        },
        "id": "3ace025b",
        "outputId": "6dc6367b-005f-46db-9acf-7a9ceade01f9"
      },
      "outputs": [
        {
          "output_type": "execute_result",
          "data": {
            "text/plain": [
              "0.7694581280788177"
            ]
          },
          "metadata": {},
          "execution_count": 22
        }
      ],
      "source": [
        "# Accuracy\n",
        "logistic_pipline.score(X_test, y_test)"
      ]
    },
    {
      "cell_type": "code",
      "execution_count": null,
      "id": "5e8433aa",
      "metadata": {
        "id": "5e8433aa",
        "outputId": "32a839ca-0b8b-484d-88a1-a8f914981637"
      },
      "outputs": [
        {
          "data": {
            "text/plain": [
              "0.802816471281084"
            ]
          },
          "execution_count": 18,
          "metadata": {},
          "output_type": "execute_result"
        }
      ],
      "source": [
        "# f1 score\n",
        "preds = logistic_pipline.predict(X_test)\n",
        "f1_score(y_test, preds, average = \"weighted\")"
      ]
    },
    {
      "cell_type": "code",
      "execution_count": null,
      "id": "1db0fc59",
      "metadata": {
        "id": "1db0fc59",
        "outputId": "c71a71b7-dbcd-441d-a9f0-e77437c5ab11"
      },
      "outputs": [
        {
          "data": {
            "text/plain": [
              "<AxesSubplot:>"
            ]
          },
          "execution_count": 19,
          "metadata": {},
          "output_type": "execute_result"
        },
        {
          "data": {
            "image/png": "[encoded data removed]",
            "text/plain": [
              "<Figure size 432x288 with 2 Axes>"
            ]
          },
          "metadata": {
            "needs_background": "light"
          },
          "output_type": "display_data"
        }
      ],
      "source": [
        "# confusion matrix\n",
        "cf_matrix = confusion_matrix(y_test,preds)\n",
        "sns.heatmap(cf_matrix, annot = True, cmap = \"Blues\")"
      ]
    },
    {
      "cell_type": "code",
      "source": [
        "preprocessor=transformer.fit(X_train)\n",
        "def preprocess(data):\n",
        "    preprocessed_data=preprocessor.transform(data)\n",
        "    return preprocessed_data\n",
        "preprocess(X_train)"
      ],
      "metadata": {
        "colab": {
          "base_uri": "https://localhost:8080/"
        },
        "id": "UHj-FEQjxacC",
        "outputId": "da74c849-2315-472b-fac4-d5bbcb03bf23"
      },
      "id": "UHj-FEQjxacC",
      "execution_count": 28,
      "outputs": [
        {
          "output_type": "execute_result",
          "data": {
            "text/plain": [
              "array([[ 0.09048504,  1.06405617, -0.16636691, ...,  0.        ,\n",
              "         0.        ,  1.        ],\n",
              "       [-0.80642865, -0.83752041, -0.08891538, ...,  1.        ,\n",
              "         0.        ,  0.        ],\n",
              "       [ 0.40245501, -1.00496799, -0.8862745 , ...,  0.        ,\n",
              "         0.        ,  0.        ],\n",
              "       ...,\n",
              "       [-0.23015077,  0.62607609, -1.6061821 , ...,  0.        ,\n",
              "         0.        ,  0.        ],\n",
              "       [ 0.51077792,  0.24827249, -1.3662129 , ...,  0.        ,\n",
              "         0.        ,  1.        ],\n",
              "       [-0.81942739, -0.0491152 , -0.08891538, ...,  1.        ,\n",
              "         0.        ,  0.        ]])"
            ]
          },
          "metadata": {},
          "execution_count": 28
        }
      ]
    },
    {
      "cell_type": "code",
      "execution_count": 30,
      "id": "b4e8cf34",
      "metadata": {
        "colab": {
          "base_uri": "https://localhost:8080/"
        },
        "id": "b4e8cf34",
        "outputId": "8d34a97d-e0bb-406a-b58a-bd21a8f464d1"
      },
      "outputs": [
        {
          "output_type": "stream",
          "name": "stdout",
          "text": [
            "Random Forest Classifier:\n",
            "best parameters: {'criterion': 'entropy', 'max_depth': 9, 'max_features': 2, 'n_estimators': 100}\n",
            "cross-validation score: 0.893\n",
            "test-set score: 0.887\n"
          ]
        }
      ],
      "source": [
        "from sklearn.model_selection import GridSearchCV\n",
        "from sklearn.ensemble import RandomForestClassifier\n",
        "\n",
        "param_grid = {'n_estimators': [100, 120, 150],\n",
        "           'criterion': ['entropy', 'gini'], \n",
        "           'max_depth': [1,3,5,7,9],\n",
        "           'max_features': range(1,3)}\n",
        "RF = GridSearchCV(RandomForestClassifier(),param_grid, cv = 5,n_jobs=-1)\n",
        "\n",
        "RF.fit(preprocess(X_train), y_train)\n",
        "\n",
        "print(\"Random Forest Classifier:\\nbest parameters: {}\".format(RF.best_params_))\n",
        "print(\"cross-validation score: {:.3f}\".format(RF.best_score_))\n",
        "print(\"test-set score: {:.3f}\".format(RF.score(preprocess(X_test), y_test)))"
      ]
    },
    {
      "cell_type": "code",
      "source": [
        "from sklearn.svm import SVC\n",
        "param_grid = {'C': [0.1,1,10,100],'degree':[1,2,3,4,5,6],\n",
        " 'gamma': [1,0.1,0.01,0.001,0.0001],'kernel': ['rbf', 'poly', 'sigmoid']}\n",
        "\n",
        "SVM = GridSearchCV(SVC(),param_grid, cv = 5,n_jobs=-1,verbose=False)\n",
        "\n",
        "SVM.fit(preprocess(X_train), y_train)\n",
        "\n",
        "print(\"SVM Classifier:\\nbest parameters: {}\".format(SVM.best_params_))\n",
        "print(\"cross-validation score:{:.3f}\".format(SVM.best_score_))\n",
        "print(\"test-set score: {:.3f}\".format(SVM.score(preprocess(X_test), y_test)))"
      ],
      "metadata": {
        "colab": {
          "base_uri": "https://localhost:8080/"
        },
        "id": "ff8k-WP2JpQU",
        "outputId": "fb120170-b3c6-49a3-ea96-0e61d84c7353"
      },
      "id": "ff8k-WP2JpQU",
      "execution_count": 37,
      "outputs": [
        {
          "output_type": "stream",
          "name": "stdout",
          "text": [
            "SVM Classifier:\n",
            "best parameters: {'C': 1, 'gamma': 1, 'kernel': 'rbf'}\n",
            "cross-validation score:0.865\n",
            "test-set score: 0.866\n"
          ]
        }
      ]
    },
    {
      "cell_type": "code",
      "source": [
        "from sklearn.neighbors import KNeighborsClassifier\n",
        "param_grid = {'weights': ['uniform', 'distance'],'n_neighbors': np.arange(1, 15, 2)} \n",
        "\n",
        "KNN = GridSearchCV(KNeighborsClassifier(),param_grid, cv = 10)\n",
        "\n",
        "KNN.fit(preprocess(X_train), y_train)\n",
        "\n",
        "print(\"KNN Classifier:\\nbest parameters: {}\".format(KNN.best_params_))\n",
        "print(\"cross-validation score:{:.3f}\".format(KNN.best_score_))\n",
        "print(\"test-set score: {:.3f}\".format(KNN.score(preprocess(X_test), y_test)))"
      ],
      "metadata": {
        "colab": {
          "base_uri": "https://localhost:8080/"
        },
        "id": "E8OPOGniHXTp",
        "outputId": "21f611e3-2068-44d6-fc41-73d0d0a8a80d"
      },
      "id": "E8OPOGniHXTp",
      "execution_count": 34,
      "outputs": [
        {
          "output_type": "stream",
          "name": "stdout",
          "text": [
            "KNN Classifier:\n",
            "best parameters: {'n_neighbors': 9, 'weights': 'distance'}\n",
            "cross-validation score:0.877\n",
            "test-set score: 0.866\n"
          ]
        }
      ]
    },
    {
      "cell_type": "code",
      "source": [
        "\n",
        "param_grid =[{\"C\":np.logspace(-4,3,6),'penalty': ['l1'], 'solver': [ 'liblinear', 'saga']},\n",
        "  {\"C\":np.logspace(-4,3,6),'penalty': ['l2'], 'solver': ['newton-cg','lbfgs','sag']},\n",
        "  {\"C\":np.logspace(-4,3,6),'penalty': ['elasticnet'], 'solver': ['saga'],'l1_ratio':np.arange(0, 1, 0.2)}]\n",
        "\n",
        "LR=GridSearchCV(LogisticRegression(verbose=False, max_iter=5000),\n",
        "                     param_grid,scoring = 'accuracy',n_jobs = -1,cv = 10)\n",
        "LR.fit(preprocess(X_train), y_train)\n",
        "\n",
        "\n",
        "print(\"Logistic Regression:\\nbest parameters: {}\".format(LR.best_params_))\n",
        "print(\"cross-validation score:{:.3f}\".format(LR.best_score_))\n",
        "print(\"test-set score: {:.3f}\".format(LR.score(preprocess(X_test), y_test)))"
      ],
      "metadata": {
        "colab": {
          "base_uri": "https://localhost:8080/"
        },
        "id": "j1Q3dZaGb8PD",
        "outputId": "0f0e8b0d-e052-4274-bc5d-24d7843da97b"
      },
      "id": "j1Q3dZaGb8PD",
      "execution_count": 40,
      "outputs": [
        {
          "output_type": "stream",
          "name": "stdout",
          "text": [
            "Logistic Regression:\n",
            "best parameters: {'C': 39.81071705534969, 'penalty': 'l1', 'solver': 'saga'}\n",
            "cross-validation score:0.843\n",
            "test-set score: 0.830\n"
          ]
        }
      ]
    },
    {
      "cell_type": "code",
      "source": [
        "from sklearn.metrics import precision_recall_fscore_support as score\n",
        "\n",
        "y_pred_RF=RF.predict(preprocess(X_test))\n",
        "y_pred_SVM=SVM.predict(preprocess(X_test))\n",
        "y_pred_KNN=KNN.predict(preprocess(X_test))\n",
        "y_pred_LR=LR.predict(preprocess(X_test))\n",
        "\n",
        "\n",
        "data = {'Logistic Regression':score(y_test,y_pred_LR,pos_label=1)+(LR.score(preprocess(X_test), y_test),), \n",
        "                 'KNN':score(y_test,y_pred_KNN,pos_label=1)+(KNN.score(preprocess(X_test), y_test),), \n",
        "                 'Random Forest':score(y_test,y_pred_RF,pos_label=1)+(RF.score(preprocess(X_test), y_test),), \n",
        "                 'Support Vector Classifier':score(y_test,y_pred_SVM,pos_label=1)+(SVM.score(preprocess(X_test), y_test),)} \n",
        "report=pd.DataFrame.from_dict(data,orient='index',columns=['precision', 'recall', 'f1-score', 'support','accuracy'])\n",
        "report['error']=1-report['accuracy']\n",
        "report[['precision', 'recall', 'f1-score', 'accuracy','error']]"
      ],
      "metadata": {
        "colab": {
          "base_uri": "https://localhost:8080/",
          "height": 288
        },
        "id": "f5MT1lnwxtO3",
        "outputId": "e858df64-42bc-471d-eb67-23a83de81013"
      },
      "id": "f5MT1lnwxtO3",
      "execution_count": 43,
      "outputs": [
        {
          "output_type": "execute_result",
          "data": {
            "text/plain": [
              "                                                                   precision  \\\n",
              "Logistic Regression                          [0.87, 0.7388535031847133, 1.0]   \n",
              "KNN                        [0.9191616766467066, 0.7777777777777778, 0.428...   \n",
              "Random Forest              [0.9098712446351931, 0.8349514563106796, 0.857...   \n",
              "Support Vector Classifier  [0.8971428571428571, 0.8006535947712419, 0.666...   \n",
              "\n",
              "                                                                      recall  \\\n",
              "Logistic Regression        [0.8864628820960698, 0.755700325732899, 0.0476...   \n",
              "KNN                        [0.893740902474527, 0.8436482084690554, 0.2857...   \n",
              "Random Forest              [0.925764192139738, 0.8403908794788274, 0.2857...   \n",
              "Support Vector Classifier  [0.9141193595342066, 0.7980456026058632, 0.285...   \n",
              "\n",
              "                                                                    f1-score  \\\n",
              "Logistic Regression        [0.8781542898341744, 0.7471819645732689, 0.090...   \n",
              "KNN                        [0.9062730627306275, 0.8093750000000001, 0.342...   \n",
              "Random Forest              [0.9177489177489176, 0.8376623376623378, 0.428...   \n",
              "Support Vector Classifier        [0.905551550108147, 0.799347471451876, 0.4]   \n",
              "\n",
              "                           accuracy     error  \n",
              "Logistic Regression        0.829557  0.170443  \n",
              "KNN                        0.866010  0.133990  \n",
              "Random Forest              0.886700  0.113300  \n",
              "Support Vector Classifier  0.866010  0.133990  "
            ],
            "text/html": [
              "\n",
              "  <div id=\"df-40ef27f5-79b7-4a87-8d8f-ecad2521bd81\">\n",
              "    <div class=\"colab-df-container\">\n",
              "      <div>\n",
              "<style scoped>\n",
              "    .dataframe tbody tr th:only-of-type {\n",
              "        vertical-align: middle;\n",
              "    }\n",
              "\n",
              "    .dataframe tbody tr th {\n",
              "        vertical-align: top;\n",
              "    }\n",
              "\n",
              "    .dataframe thead th {\n",
              "        text-align: right;\n",
              "    }\n",
              "</style>\n",
              "<table border=\"1\" class=\"dataframe\">\n",
              "  <thead>\n",
              "    <tr style=\"text-align: right;\">\n",
              "      <th></th>\n",
              "      <th>precision</th>\n",
              "      <th>recall</th>\n",
              "      <th>f1-score</th>\n",
              "      <th>accuracy</th>\n",
              "      <th>error</th>\n",
              "    </tr>\n",
              "  </thead>\n",
              "  <tbody>\n",
              "    <tr>\n",
              "      <th>Logistic Regression</th>\n",
              "      <td>[0.87, 0.7388535031847133, 1.0]</td>\n",
              "      <td>[0.8864628820960698, 0.755700325732899, 0.0476...</td>\n",
              "      <td>[0.8781542898341744, 0.7471819645732689, 0.090...</td>\n",
              "      <td>0.829557</td>\n",
              "      <td>0.170443</td>\n",
              "    </tr>\n",
              "    <tr>\n",
              "      <th>KNN</th>\n",
              "      <td>[0.9191616766467066, 0.7777777777777778, 0.428...</td>\n",
              "      <td>[0.893740902474527, 0.8436482084690554, 0.2857...</td>\n",
              "      <td>[0.9062730627306275, 0.8093750000000001, 0.342...</td>\n",
              "      <td>0.866010</td>\n",
              "      <td>0.133990</td>\n",
              "    </tr>\n",
              "    <tr>\n",
              "      <th>Random Forest</th>\n",
              "      <td>[0.9098712446351931, 0.8349514563106796, 0.857...</td>\n",
              "      <td>[0.925764192139738, 0.8403908794788274, 0.2857...</td>\n",
              "      <td>[0.9177489177489176, 0.8376623376623378, 0.428...</td>\n",
              "      <td>0.886700</td>\n",
              "      <td>0.113300</td>\n",
              "    </tr>\n",
              "    <tr>\n",
              "      <th>Support Vector Classifier</th>\n",
              "      <td>[0.8971428571428571, 0.8006535947712419, 0.666...</td>\n",
              "      <td>[0.9141193595342066, 0.7980456026058632, 0.285...</td>\n",
              "      <td>[0.905551550108147, 0.799347471451876, 0.4]</td>\n",
              "      <td>0.866010</td>\n",
              "      <td>0.133990</td>\n",
              "    </tr>\n",
              "  </tbody>\n",
              "</table>\n",
              "</div>\n",
              "      <button class=\"colab-df-convert\" onclick=\"convertToInteractive('df-40ef27f5-79b7-4a87-8d8f-ecad2521bd81')\"\n",
              "              title=\"Convert this dataframe to an interactive table.\"\n",
              "              style=\"display:none;\">\n",
              "        \n",
              "  <svg xmlns=\"http://www.w3.org/2000/svg\" height=\"24px\"viewBox=\"0 0 24 24\"\n",
              "       width=\"24px\">\n",
              "    <path d=\"M0 0h24v24H0V0z\" fill=\"none\"/>\n",
              "    <path d=\"M18.56 5.44l.94 2.06.94-2.06 2.06-.94-2.06-.94-.94-2.06-.94 2.06-2.06.94zm-11 1L8.5 8.5l.94-2.06 2.06-.94-2.06-.94L8.5 2.5l-.94 2.06-2.06.94zm10 10l.94 2.06.94-2.06 2.06-.94-2.06-.94-.94-2.06-.94 2.06-2.06.94z\"/><path d=\"M17.41 7.96l-1.37-1.37c-.4-.4-.92-.59-1.43-.59-.52 0-1.04.2-1.43.59L10.3 9.45l-7.72 7.72c-.78.78-.78 2.05 0 2.83L4 21.41c.39.39.9.59 1.41.59.51 0 1.02-.2 1.41-.59l7.78-7.78 2.81-2.81c.8-.78.8-2.07 0-2.86zM5.41 20L4 18.59l7.72-7.72 1.47 1.35L5.41 20z\"/>\n",
              "  </svg>\n",
              "      </button>\n",
              "      \n",
              "  <style>\n",
              "    .colab-df-container {\n",
              "      display:flex;\n",
              "      flex-wrap:wrap;\n",
              "      gap: 12px;\n",
              "    }\n",
              "\n",
              "    .colab-df-convert {\n",
              "      background-color: #E8F0FE;\n",
              "      border: none;\n",
              "      border-radius: 50%;\n",
              "      cursor: pointer;\n",
              "      display: none;\n",
              "      fill: #1967D2;\n",
              "      height: 32px;\n",
              "      padding: 0 0 0 0;\n",
              "      width: 32px;\n",
              "    }\n",
              "\n",
              "    .colab-df-convert:hover {\n",
              "      background-color: #E2EBFA;\n",
              "      box-shadow: 0px 1px 2px rgba(60, 64, 67, 0.3), 0px 1px 3px 1px rgba(60, 64, 67, 0.15);\n",
              "      fill: #174EA6;\n",
              "    }\n",
              "\n",
              "    [theme=dark] .colab-df-convert {\n",
              "      background-color: #3B4455;\n",
              "      fill: #D2E3FC;\n",
              "    }\n",
              "\n",
              "    [theme=dark] .colab-df-convert:hover {\n",
              "      background-color: #434B5C;\n",
              "      box-shadow: 0px 1px 3px 1px rgba(0, 0, 0, 0.15);\n",
              "      filter: drop-shadow(0px 1px 2px rgba(0, 0, 0, 0.3));\n",
              "      fill: #FFFFFF;\n",
              "    }\n",
              "  </style>\n",
              "\n",
              "      <script>\n",
              "        const buttonEl =\n",
              "          document.querySelector('#df-40ef27f5-79b7-4a87-8d8f-ecad2521bd81 button.colab-df-convert');\n",
              "        buttonEl.style.display =\n",
              "          google.colab.kernel.accessAllowed ? 'block' : 'none';\n",
              "\n",
              "        async function convertToInteractive(key) {\n",
              "          const element = document.querySelector('#df-40ef27f5-79b7-4a87-8d8f-ecad2521bd81');\n",
              "          const dataTable =\n",
              "            await google.colab.kernel.invokeFunction('convertToInteractive',\n",
              "                                                     [key], {});\n",
              "          if (!dataTable) return;\n",
              "\n",
              "          const docLinkHtml = 'Like what you see? Visit the ' +\n",
              "            '<a target=\"_blank\" href=https://colab.research.google.com/notebooks/data_table.ipynb>data table notebook</a>'\n",
              "            + ' to learn more about interactive tables.';\n",
              "          element.innerHTML = '';\n",
              "          dataTable['output_type'] = 'display_data';\n",
              "          await google.colab.output.renderOutput(dataTable, element);\n",
              "          const docLink = document.createElement('div');\n",
              "          docLink.innerHTML = docLinkHtml;\n",
              "          element.appendChild(docLink);\n",
              "        }\n",
              "      </script>\n",
              "    </div>\n",
              "  </div>\n",
              "  "
            ]
          },
          "metadata": {},
          "execution_count": 43
        }
      ]
    }
  ],
  "metadata": {
    "kernelspec": {
      "display_name": "Python 3",
      "language": "python",
      "name": "python3"
    },
    "language_info": {
      "codemirror_mode": {
        "name": "ipython",
        "version": 3
      },
      "file_extension": ".py",
      "mimetype": "text/x-python",
      "name": "python",
      "nbconvert_exporter": "python",
      "pygments_lexer": "ipython3",
      "version": "3.8.8"
    },
    "colab": {
      "name": "starter_code.ipynb",
      "provenance": []
    }
  },
  "nbformat": 4,
  "nbformat_minor": 5
}